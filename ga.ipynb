{
 "cells": [
  {
   "cell_type": "code",
   "execution_count": 68,
   "id": "e11a45bed36bbeb7",
   "metadata": {
    "ExecuteTime": {
     "end_time": "2025-04-14T11:51:08.407391Z",
     "start_time": "2025-04-14T11:51:08.029922Z"
    }
   },
   "outputs": [],
   "source": [
    "import random\n",
    "\n",
    "import numpy as np\n",
    "import pandas as pd\n",
    "from numba import boolean, njit"
   ]
  },
  {
   "cell_type": "code",
   "execution_count": 69,
   "id": "82968c43f81f655a",
   "metadata": {
    "ExecuteTime": {
     "end_time": "2025-04-14T11:51:08.433515Z",
     "start_time": "2025-04-14T11:51:08.421218Z"
    }
   },
   "outputs": [],
   "source": [
    "# Load data\n",
    "data = pd.read_csv('data/family_data.csv')\n",
    "submission = pd.read_csv('data/sample_submission.csv')\n",
    "\n",
    "matrix = data[[f'choice_{i}' for i in range(10)]].to_numpy()\n",
    "family_size = data['n_people'].to_numpy()\n",
    "\n",
    "N_FAMILIES = len(family_size)\n",
    "N_DAYS = 100\n",
    "MAX_OCCUPANCY = 300\n",
    "MIN_OCCUPANCY = 125"
   ]
  },
  {
   "cell_type": "code",
   "execution_count": 70,
   "id": "923c1b74747de743",
   "metadata": {
    "ExecuteTime": {
     "end_time": "2025-04-14T11:51:08.549065Z",
     "start_time": "2025-04-14T11:51:08.546078Z"
    }
   },
   "outputs": [],
   "source": [
    "# Precompute penalties as a NumPy array\n",
    "penalties_array = np.zeros((family_size.max() + 1, 11), dtype=np.float64)\n",
    "for n in range(family_size.max() + 1):\n",
    "    penalties_array[n] = [\n",
    "        0,\n",
    "        50,\n",
    "        50 + 9 * n,\n",
    "        100 + 9 * n,\n",
    "        200 + 9 * n,\n",
    "        200 + 18 * n,\n",
    "        300 + 18 * n,\n",
    "        300 + 36 * n,\n",
    "        400 + 36 * n,\n",
    "        500 + 36 * n + 199 * n,\n",
    "        500 + 36 * n + 398 * n\n",
    "    ]"
   ]
  },
  {
   "cell_type": "code",
   "execution_count": 71,
   "id": "5ef080358b234f32",
   "metadata": {
    "ExecuteTime": {
     "end_time": "2025-04-14T11:51:08.614268Z",
     "start_time": "2025-04-14T11:51:08.588534Z"
    }
   },
   "outputs": [],
   "source": [
    "# Convert matrix into choice ranking lookup:\n",
    "choice_rank = -np.ones((N_FAMILIES, N_DAYS), dtype=np.int8)\n",
    "for i in range(matrix.shape[0]):\n",
    "    for rank, day in enumerate(matrix[i]):\n",
    "        choice_rank[i, day - 1] = rank  # days are 1-based"
   ]
  },
  {
   "cell_type": "code",
   "execution_count": 72,
   "id": "f95020917178f01f",
   "metadata": {
    "ExecuteTime": {
     "end_time": "2025-04-14T11:51:08.661993Z",
     "start_time": "2025-04-14T11:51:08.653588Z"
    }
   },
   "outputs": [],
   "source": [
    "@njit\n",
    "def cost_function(prediction, family_size, choice_rank, penalties_array):\n",
    "    daily_occupancy = np.zeros(N_DAYS, dtype=np.int32)\n",
    "    penalty = 0.0\n",
    "\n",
    "    for i in range(prediction.shape[0]):\n",
    "        d = prediction[i] - 1  # adjust for 0-based index\n",
    "        n = family_size[i]\n",
    "        daily_occupancy[d] += n\n",
    "\n",
    "        rank = choice_rank[i, d]\n",
    "        if rank == -1:\n",
    "            penalty += penalties_array[n, 10]\n",
    "        else:\n",
    "            penalty += penalties_array[n, rank]\n",
    "\n",
    "    # Soft constraints\n",
    "    for v in daily_occupancy:\n",
    "        if v < MIN_OCCUPANCY or v > MAX_OCCUPANCY:\n",
    "            penalty += 1e8\n",
    "\n",
    "    # Accounting cost\n",
    "    acc = max(0, ((daily_occupancy[N_DAYS-1] - 125.0) / 400.0) * (daily_occupancy[N_DAYS-1]**0.5))\n",
    "    yesterday = daily_occupancy[N_DAYS-1]\n",
    "\n",
    "    for i in range(N_DAYS-2, -1, -1):\n",
    "        today = daily_occupancy[i]\n",
    "        diff = abs(today - yesterday)\n",
    "        acc += max(0, ((today - 125.0) / 400.0) * (today ** (0.5 + diff / 50.0)))\n",
    "        yesterday = today\n",
    "\n",
    "    penalty += acc\n",
    "    return penalty"
   ]
  },
  {
   "cell_type": "code",
   "execution_count": 73,
   "id": "aa9395eb130a3277",
   "metadata": {
    "ExecuteTime": {
     "end_time": "2025-04-14T11:51:08.710111Z",
     "start_time": "2025-04-14T11:51:08.705084Z"
    }
   },
   "outputs": [],
   "source": [
    "class Chromosome:\n",
    "    def __init__(self, num_days, num_families):\n",
    "        self.num_days = num_days\n",
    "        self.num_families = num_families\n",
    "        self.assigned_days = np.zeros(num_families, dtype=np.int32)\n",
    "        self.daily_attendance = np.zeros(num_days, dtype=np.int32)\n",
    "\n",
    "    def copy(self):\n",
    "        new_chromo = Chromosome(self.num_days, self.num_families)\n",
    "        new_chromo.assigned_days = self.assigned_days.copy()\n",
    "        new_chromo.daily_attendance = self.daily_attendance.copy()\n",
    "        return new_chromo\n",
    "\n",
    "    def is_swap_valid(self, family_idx, new_day, family_size_arr) -> boolean:\n",
    "        current_day = self.assigned_days[family_idx]\n",
    "        family_size = family_size_arr[family_idx]\n",
    "\n",
    "        reduced = self.daily_attendance[current_day - 1] - family_size\n",
    "        increased = self.daily_attendance[new_day - 1] + family_size\n",
    "\n",
    "        return (reduced >= MIN_OCCUPANCY and reduced <= MAX_OCCUPANCY and\n",
    "                increased >= MIN_OCCUPANCY and increased <= MAX_OCCUPANCY)\n",
    "\n",
    "    def update_attendance(self, family_idx, old_day, new_day, family_size_arr):\n",
    "        self.daily_attendance[old_day - 1] -= family_size_arr[family_idx]\n",
    "        self.daily_attendance[new_day - 1] += family_size_arr[family_idx]"
   ]
  },
  {
   "cell_type": "markdown",
   "id": "c1398033",
   "metadata": {},
   "source": [
    "## Initialization of chromosome\n",
    "In this section we initialize chromosomes probabilistically assigning some day to each family"
   ]
  },
  {
   "cell_type": "code",
   "execution_count": 74,
   "id": "6490d33517e75b21",
   "metadata": {
    "ExecuteTime": {
     "end_time": "2025-04-14T11:51:08.921446Z",
     "start_time": "2025-04-14T11:51:08.757579Z"
    }
   },
   "outputs": [],
   "source": [
    "# Create list of choice columns ('choice_0' to 'choice_9')\n",
    "cols = [f'choice_{i}' for i in range(10)]\n",
    "# Convert choices to dictionary format: {day: choice_rank}}\n",
    "choice_dict = data[cols].T.to_dict()\n",
    "\n",
    "# Contains array of dictionaries with format: {family_id: {day: choice_rank}}\n",
    "# This helps quickly lookup a day's preference rank for each family\n",
    "choice_dict_num = [{vv:i for i, vv in enumerate(di.values())} for di in choice_dict.values()]\n",
    "\n",
    "# dictionary with format family_id: family_size\n",
    "family_size_dict = data[['n_people']].to_dict()['n_people']\n",
    "# An array with the size of families\n",
    "family_size_ls = list(family_size_dict.values())\n",
    "\n",
    "\n",
    "def initialize_chromosome() -> Chromosome:\n",
    "    \"\"\"\n",
    "    Initializes a valid chromosome (solution) for the genetic algorithm.\n",
    "    \n",
    "    Creates a random assignment of families to days that:\n",
    "    - Respects daily capacity constraints (≤300 people)\n",
    "    - Prefers better-ranked choices with higher probability\n",
    "    - Penalizes assignments that would make days nearly full\n",
    "    \n",
    "    Returns:\n",
    "        Chromosome: A new valid solution chromosome\n",
    "    \"\"\"\n",
    "    people_in_day = {day:0 for day in range(1, N_DAYS + 1)}\n",
    "    chromosome = np.zeros(len(family_size_dict), dtype=np.int32)\n",
    "    for i in range(len(chromosome)):\n",
    "        # family's preferred days (from their 10 choices)\n",
    "        items = list(choice_dict_num[i].keys()).copy()\n",
    "        \n",
    "        # Add one random non-preferred day to consider\n",
    "        while True:\n",
    "            new_number = random.randint(1, N_DAYS)\n",
    "            if new_number not in items:\n",
    "                items += [new_number]\n",
    "                break\n",
    "        \n",
    "        # Get penalty weights for this family size. The smaller the size and the preferred day, the smaller the penalty\n",
    "        weights = penalties_array[family_size_dict[i]]\n",
    "\n",
    "        inverse_weights = []\n",
    "        for j in range(len(weights)):\n",
    "            c = 50\n",
    "            # Additional penalty based on current day occupancy in order to decrease choosing the most occupated days\n",
    "            if people_in_day[items[j]] in range(MIN_OCCUPANCY, MAX_OCCUPANCY + 1):\n",
    "                c += (people_in_day[items[j]] - MIN_OCCUPANCY) * 1000\n",
    "            # Final weight = inverse of (base penalty + occupancy penalty) < 1\n",
    "            inverse_weights.append(1 / (weights[j] + c))\n",
    "        \n",
    "        # Filter to only feasible day options (wouldn't violate restrictions)\n",
    "        new_items = []\n",
    "        new_inverse_weights = []\n",
    "        for j in range(len(items)):\n",
    "            if people_in_day[items[j]] + family_size_ls[i] <= MAX_OCCUPANCY:\n",
    "                new_items.append(items[j])\n",
    "                new_inverse_weights.append(inverse_weights[j])\n",
    "                \n",
    "        # Select a day probabilistically based on weights\n",
    "        chromosome[i] = random.choices(new_items, new_inverse_weights, k=1)[0]\n",
    "        # Update the day's occupancy count\n",
    "        people_in_day[chromosome[i]] += family_size_ls[i]\n",
    "\n",
    "    # Create Chromosome object and populate its data\n",
    "    chromosome_cls = Chromosome(N_DAYS, N_FAMILIES)\n",
    "    chromosome_cls.assigned_days = chromosome\n",
    "\n",
    "    # Transfer occupancy counts to Chromosome object\n",
    "    for key, value in people_in_day.items():\n",
    "        chromosome_cls.daily_attendance[key - 1] = value\n",
    "\n",
    "    return chromosome_cls"
   ]
  },
  {
   "cell_type": "markdown",
   "id": "7e2ed244",
   "metadata": {},
   "source": [
    "## Tournament selection.\n",
    "Each selected individual won in tounament with n=tournament_size cometitors based on fitness value"
   ]
  },
  {
   "cell_type": "code",
   "execution_count": 75,
   "id": "5e202df3fd6803d4",
   "metadata": {
    "ExecuteTime": {
     "end_time": "2025-04-14T11:51:09.039037Z",
     "start_time": "2025-04-14T11:51:09.035148Z"
    }
   },
   "outputs": [],
   "source": [
    "def selection(population, selection_size, tournament_size):\n",
    "    \"\"\"\n",
    "    Performs tournament selection to choose individuals for reproduction.\n",
    "    \n",
    "    Tournament selection works by:\n",
    "    1. Randomly selecting a subset (tournament) of individuals\n",
    "    2. Choosing the best one from each tournament\n",
    "    3. Repeating until we've selected the desired number\n",
    "    \n",
    "    Args:\n",
    "        population (list): List of Chromosome objects in current generation\n",
    "        selection_size (int): Number of individuals to select\n",
    "        tournament_size (int): Number of participants in each tournament\n",
    "        \n",
    "    Returns:\n",
    "        list: Selected Chromosome objects for reproduction\n",
    "    \"\"\"\n",
    "    pop_size = len(population)\n",
    "    costs = np.array([cost_function(ind.assigned_days, family_size, choice_rank, penalties_array) for ind in population])\n",
    "    selected = []\n",
    "\n",
    "    for _ in range(selection_size):\n",
    "        # Randomly select n=tournament_size individuals\n",
    "        indices = np.random.choice(pop_size, tournament_size, replace=False)\n",
    "        # Choose the best from this tournament\n",
    "        best_idx = indices[np.argmin(costs[indices])]\n",
    "        selected.append(population[best_idx])\n",
    "\n",
    "    return selected"
   ]
  },
  {
   "cell_type": "code",
   "execution_count": 76,
   "id": "32b64439b4960737",
   "metadata": {
    "ExecuteTime": {
     "end_time": "2025-04-14T11:51:09.087504Z",
     "start_time": "2025-04-14T11:51:09.084247Z"
    }
   },
   "outputs": [],
   "source": [
    "def perform_swap(child1, child2, family_idx, day1, day2):\n",
    "    \"\"\"\n",
    "    Executes a reciprocal day swap between two child chromosomes for a specific family.\n",
    "    \n",
    "    Swaps the assigned days between two children for the given family index,\n",
    "    while maintaining consistent daily attendance counts in both chromosomes.\n",
    "\n",
    "    Args:\n",
    "        child1 (Chromosome): First child chromosome to modify\n",
    "        child2 (Chromosome): Second child chromosome to modify\n",
    "        family_idx (int): Index of the family (gene) being swapped\n",
    "        day1 (int): Current day assignment in child1 (will be moved to child2)\n",
    "        day2 (int): Current day assignment in child2 (will be moved to child1)\n",
    "        \n",
    "    Effects:\n",
    "        - Updates both children's assigned_days arrays\n",
    "        - Modifies both children's daily_attendance counts\n",
    "        - No return value (modifies chromosomes in-place)\n",
    "    \"\"\"\n",
    "    child1.update_attendance(family_idx, day1, day2, family_size)\n",
    "    child2.update_attendance(family_idx, day2, day1, family_size)\n",
    "    child1.assigned_days[family_idx] = day2\n",
    "    child2.assigned_days[family_idx] = day1"
   ]
  },
  {
   "cell_type": "markdown",
   "id": "71406815",
   "metadata": {},
   "source": [
    "## Crossover\n",
    "Each gene (day in chromosome) in offspring is obtained probabilistically based on swapping of genes between two parent chromosomes."
   ]
  },
  {
   "cell_type": "code",
   "execution_count": 77,
   "id": "66a57900e83a4f76",
   "metadata": {
    "ExecuteTime": {
     "end_time": "2025-04-14T11:51:09.137546Z",
     "start_time": "2025-04-14T11:51:09.133235Z"
    }
   },
   "outputs": [],
   "source": [
    "def crossover(parent1, parent2, p=1.0, allow_single_swap=False, random_order=False):\n",
    "    \"\"\"\n",
    "    Performs crossover between two parent chromosomes to produce two offspring.\n",
    "    \n",
    "    This is a uniform crossover that swaps family-day assignments between parents,\n",
    "    with validity checks to maintain feasible solutions.\n",
    "    \n",
    "    Args:\n",
    "        parent1, parent2 (Chromosome): Parent solutions to recombine\n",
    "        p (float): Probability [0-1] of performing a swap for each family (default: 1.0)\n",
    "        allow_single_swap (bool): If True, allows one-way swaps when two-way isn't possible\n",
    "        random_order (bool): If True, processes families in random order to avoid bias\n",
    "    \n",
    "    Returns:\n",
    "        tuple: Two new Chromosome objects (child1, child2)\n",
    "    \"\"\"\n",
    "    #  Creating copies of the parents as the initial descendants\n",
    "    child1 = parent1.copy()\n",
    "    child2 = parent2.copy()\n",
    "    \n",
    "    # 2. Preparing family indexes for processing\n",
    "    indices = np.arange(len(parent1.assigned_days))\n",
    "    if random_order:\n",
    "        np.random.shuffle(indices)\n",
    "\n",
    "    for family_idx in indices:\n",
    "        day1 = parent1.assigned_days[family_idx]\n",
    "        day2 = parent2.assigned_days[family_idx]\n",
    "        \n",
    "        # We check whether the exchange will be acceptable for both descendants.\n",
    "        valid1 = child1.is_swap_valid(family_idx, day2, family_size)\n",
    "        valid2 = child2.is_swap_valid(family_idx, day1, family_size)\n",
    "        \n",
    "        # if exchange is acceptable then swap two genes\n",
    "        if valid1 and valid2 and np.random.rand() < p:\n",
    "            perform_swap(child1, child2, family_idx, day1, day2)\n",
    "        # Partial swap\n",
    "        elif allow_single_swap:\n",
    "            if valid1 and np.random.rand() < p: # One-way swap into child1 (if valid)\n",
    "                child1.update_attendance(family_idx, day1, day2, family_size)\n",
    "                child1.assigned_days[family_idx] = day2\n",
    "            elif valid2 and np.random.rand() < p: # One-way swap into child2 (if valid)\n",
    "                child2.update_attendance(family_idx, day2, day1, family_size)\n",
    "                child2.assigned_days[family_idx] = day1\n",
    "\n",
    "    return child1, child2"
   ]
  },
  {
   "cell_type": "markdown",
   "id": "1791d850",
   "metadata": {},
   "source": [
    "## Two iplementations of mutation function\n",
    "Provides an improvement in a family's preferred day (gene)"
   ]
  },
  {
   "cell_type": "code",
   "execution_count": 78,
   "id": "9d7caca06c025caf",
   "metadata": {
    "ExecuteTime": {
     "end_time": "2025-04-14T11:51:09.186164Z",
     "start_time": "2025-04-14T11:51:09.181640Z"
    }
   },
   "outputs": [],
   "source": [
    "def mutation(chromosome, mutation_rate=0.1):\n",
    "    \"\"\"\n",
    "    Performs a random valid mutation on a chromosome with given probability.\n",
    "    \n",
    "    With probability mutation_rate, selects a random family and moves it to a \n",
    "    different valid day that satisfies capacity constraints. The new day is \n",
    "    selected randomly from all possible valid alternatives. May not improve solution\n",
    "\n",
    "    Args:\n",
    "        chromosome (Chromosome): The solution chromosome to potentially mutate\n",
    "        mutation_rate (float): Probability [0-1] of performing a mutation\n",
    "        \n",
    "    Modifies:\n",
    "        The input chromosome in-place if mutation occurs\n",
    "    \"\"\"\n",
    "    if np.random.rand() >= mutation_rate:\n",
    "        return\n",
    "\n",
    "    family_idx = np.random.randint(len(chromosome.assigned_days))\n",
    "    current_day = chromosome.assigned_days[family_idx]\n",
    "\n",
    "    # Random order of days (excluding current)\n",
    "    possible_days = np.delete(np.arange(1, N_DAYS + 1), current_day - 1)\n",
    "    np.random.shuffle(possible_days)\n",
    "\n",
    "    for new_day in possible_days:\n",
    "        if chromosome.is_swap_valid(family_idx, new_day, family_size):\n",
    "            chromosome.update_attendance(family_idx, current_day, new_day, family_size)\n",
    "            chromosome.assigned_days[family_idx] = new_day\n",
    "            break"
   ]
  },
  {
   "cell_type": "code",
   "execution_count": 79,
   "id": "3c88b600b4497588",
   "metadata": {
    "ExecuteTime": {
     "end_time": "2025-04-14T14:41:43.944077Z",
     "start_time": "2025-04-14T14:41:43.936737Z"
    }
   },
   "outputs": [],
   "source": [
    "def mutation1(chromosome, mutation_rate=0.1):\n",
    "    \"\"\"\n",
    "    Performs a directed mutation that attempts to improve a family's day assignment.\n",
    "    \n",
    "    With probability mutation_rate, selects a random family and tries to move it to:\n",
    "    - A better preferred day (lower rank, i.e. improves solution)\n",
    "    - That satisfies capacity constraints\n",
    "    \n",
    "    Args:\n",
    "        chromosome (Chromosome): The solution chromosome to mutate\n",
    "        mutation_rate (float): Probability [0-1] of attempting mutation\n",
    "        \n",
    "    Modifies:\n",
    "        The input chromosome in-place if mutation occurs\n",
    "    \"\"\"\n",
    "    if np.random.rand() >= mutation_rate:\n",
    "        return\n",
    "\n",
    "    family_idx = np.random.randint(len(chromosome.assigned_days))\n",
    "    current_day = chromosome.assigned_days[family_idx]\n",
    "\n",
    "    # Get the family's preference mapping {day: rank}\n",
    "    preference_ranks = choice_dict_num[family_idx]\n",
    "\n",
    "    # Rank of the current assigned day (default to worst if not in prefs)\n",
    "    current_rank = preference_ranks.get(current_day, 10)\n",
    "\n",
    "    # Shuffle possible days excluding current\n",
    "    possible_days = np.delete(np.arange(1, N_DAYS + 1), current_day - 1)\n",
    "    np.random.shuffle(possible_days)\n",
    "\n",
    "    for new_day in possible_days:\n",
    "        new_rank = preference_ranks.get(new_day, 10)\n",
    "        # Only mutate if it's valid AND strictly better in preference\n",
    "        if new_rank < current_rank and chromosome.is_swap_valid(family_idx, new_day, family_size):\n",
    "            chromosome.update_attendance(family_idx, current_day, new_day, family_size)\n",
    "            chromosome.assigned_days[family_idx] = new_day\n",
    "            break"
   ]
  },
  {
   "cell_type": "code",
   "execution_count": 80,
   "id": "30c6018629675b68",
   "metadata": {
    "ExecuteTime": {
     "end_time": "2025-04-14T11:51:09.244859Z",
     "start_time": "2025-04-14T11:51:09.241712Z"
    }
   },
   "outputs": [],
   "source": [
    "def reproduction(\n",
    "        mutation_func,\n",
    "        parents,\n",
    "        crossover_proba=1.0,\n",
    "        allow_single_swap=False,\n",
    "        random_order=False,\n",
    "        mutation_rate=0.01\n",
    "):\n",
    "    \"\"\"\n",
    "    Generates offspring population through crossover and mutation.\n",
    "    \n",
    "    Args:\n",
    "        mutation_func (function): Mutation operator to apply\n",
    "        parents (list): Selected parent chromosomes\n",
    "        crossover_proba (float): Probability of performing crossover [0-1]\n",
    "        allow_single_swap (bool): If True, allows one-way swaps when two-way isn't possible\n",
    "        random_order (bool): Whether to process families in random order during crossover\n",
    "        mutation_rate (float): Probability of mutation for each child\n",
    "        \n",
    "    Returns:\n",
    "        list: New generation of chromosomes\n",
    "    \"\"\"\n",
    "    next_generation = []\n",
    "    for i in range(0, len(parents), 2):\n",
    "        parent1, parent2 = parents[i], parents[i + 1]\n",
    "        # Create children through crossover\n",
    "        child1, child2 = crossover(parent1, parent2, p=crossover_proba, allow_single_swap=allow_single_swap, random_order=random_order)\n",
    "        # Apply mutation to both children (independently\n",
    "        mutation_func(child1, mutation_rate)\n",
    "        mutation_func(child2, mutation_rate)\n",
    "        next_generation.extend([child1, child2])\n",
    "    return next_generation"
   ]
  },
  {
   "cell_type": "code",
   "execution_count": 81,
   "id": "81cf1fb1f087c5c6",
   "metadata": {
    "ExecuteTime": {
     "end_time": "2025-04-14T11:51:09.289294Z",
     "start_time": "2025-04-14T11:51:09.286332Z"
    }
   },
   "outputs": [],
   "source": [
    "def epoch_optimal(population):\n",
    "    \"\"\"\n",
    "    Finds the best individual in popultation and its fitness value\n",
    "    \n",
    "    Args:\n",
    "        population: set of chomosomes representing possible solution (array of days assigned to each family)\n",
    "    \n",
    "    Returns:\n",
    "        tuple: best individual, its fitness value\n",
    "    \"\"\"\n",
    "    costs = [cost_function(ind.assigned_days, family_size, choice_rank, penalties_array) for ind in population]\n",
    "    best_idx = np.argmin(costs)\n",
    "    return population[best_idx], costs[best_idx]"
   ]
  },
  {
   "cell_type": "markdown",
   "id": "63e1ae95",
   "metadata": {},
   "source": [
    "## Genetic algorihm core\n",
    "Repeats all the steps in the genetic algorithms until the maximum number of generations is reached."
   ]
  },
  {
   "cell_type": "code",
   "execution_count": 82,
   "id": "8ad9377f390534b0",
   "metadata": {
    "ExecuteTime": {
     "end_time": "2025-04-14T11:51:09.342377Z",
     "start_time": "2025-04-14T11:51:09.335605Z"
    }
   },
   "outputs": [],
   "source": [
    "def genetic_algorithm(\n",
    "        mutation_func,\n",
    "        pop_size=100,\n",
    "        num_generations=200,\n",
    "        tournament_size=5,\n",
    "        crossover_proba=1.0,\n",
    "        allow_single_swap=False,\n",
    "        random_order=False,\n",
    "        mutation_rate=0.1,\n",
    "        elitism_ratio=0.1\n",
    "):\n",
    "    \"\"\"\n",
    "    Executes the complete genetic algorithm optimization process.\n",
    "    \n",
    "    Implements a steady-state genetic algorithm with:\n",
    "    - Tournament selection\n",
    "    - Customizable crossover and mutation\n",
    "    - Elitism preservation\n",
    "    - Generational replacement\n",
    "    \n",
    "    Args:\n",
    "        mutation_func (function): Mutation operator function\n",
    "        pop_size (int): Number of individuals in population\n",
    "        num_generations (int): Maximum generations to run\n",
    "        tournament_size (int): Size of selection tournaments\n",
    "        crossover_proba (float): Probability of performing crossover [0-1]\n",
    "        allow_single_swap (bool): If True, allows one-way swaps when two-way isn't possible\n",
    "        random_order (bool): Randomize family processing order in crossover\n",
    "        mutation_rate (float): Probability of mutation per individual\n",
    "        elitism_ratio (float): Proportion of elites to preserve [0-1]\n",
    "        \n",
    "    Returns:\n",
    "        tuple: (best_chromosome, best_cost) found during evolution\n",
    "    \"\"\"\n",
    "    \n",
    "    # Create starting population of random valid solutions\n",
    "    population = [initialize_chromosome() for _ in range(pop_size)]\n",
    "    # Evaluate initial fitness (cost) for all individuals\n",
    "    costs = [cost_function(ind.assigned_days, family_size, choice_rank, penalties_array) for ind in population]\n",
    "\n",
    "    # Sort population by fitness (ascending - lower cost is better)\n",
    "    sorted_indices = np.argsort(costs)\n",
    "    population = [population[i] for i in sorted_indices]\n",
    "    costs = [costs[i] for i in sorted_indices]\n",
    "    \n",
    "    # Initialize global best tracking\n",
    "    best_chromosome = population[0].copy()\n",
    "    best_cost = costs[0]\n",
    "\n",
    "    for generation in range(num_generations):\n",
    "        # Elitism: preserve top individuals\n",
    "        elite_size = max(1, int(elitism_ratio * pop_size))\n",
    "        elites = [population[i].copy() for i in range(elite_size)]\n",
    "\n",
    "        # Selection\n",
    "        parents = selection(population, pop_size - elite_size, tournament_size)\n",
    "\n",
    "        # Reproduction\n",
    "        offspring = reproduction(mutation_func, parents, crossover_proba, allow_single_swap, random_order, mutation_rate)\n",
    "\n",
    "        # Combine elites and offspring\n",
    "        population = elites + offspring\n",
    "\n",
    "        # Find the best in the current generation\n",
    "        current_best, current_cost = epoch_optimal(population)\n",
    "\n",
    "        # Update the best solution\n",
    "        if current_cost < best_cost:\n",
    "            best_chromosome, best_cost = current_best.copy(), current_cost\n",
    "\n",
    "        print(f\"Generation {generation + 1}: Best Cost = {best_cost}\")\n",
    "    return best_chromosome, best_cost"
   ]
  },
  {
   "cell_type": "code",
   "execution_count": 83,
   "id": "c94a25995b3bd69b",
   "metadata": {
    "ExecuteTime": {
     "end_time": "2025-04-14T15:56:43.431114Z",
     "start_time": "2025-04-14T14:42:09.089888Z"
    }
   },
   "outputs": [
    {
     "name": "stdout",
     "output_type": "stream",
     "text": [
      "Generation 1: Best Cost = 1873972.2528206974\n",
      "Generation 2: Best Cost = 1868166.3210432974\n",
      "Generation 3: Best Cost = 1868166.3210432974\n",
      "Generation 4: Best Cost = 1859596.2188656176\n",
      "Generation 5: Best Cost = 1855132.6328094492\n",
      "Generation 6: Best Cost = 1849227.4019925247\n",
      "Generation 7: Best Cost = 1831967.0279586224\n"
     ]
    },
    {
     "ename": "KeyboardInterrupt",
     "evalue": "",
     "output_type": "error",
     "traceback": [
      "\u001b[0;31m---------------------------------------------------------------------------\u001b[0m",
      "\u001b[0;31mKeyboardInterrupt\u001b[0m                         Traceback (most recent call last)",
      "\u001b[0;32m<ipython-input-83-852cd4fb30e1>\u001b[0m in \u001b[0;36m<module>\u001b[0;34m\u001b[0m\n\u001b[1;32m      1\u001b[0m \u001b[0;31m# launching the genetic algorithm\u001b[0m\u001b[0;34m\u001b[0m\u001b[0;34m\u001b[0m\u001b[0;34m\u001b[0m\u001b[0m\n\u001b[0;32m----> 2\u001b[0;31m best_ch, best_c = genetic_algorithm(\n\u001b[0m\u001b[1;32m      3\u001b[0m         \u001b[0mpop_size\u001b[0m\u001b[0;34m=\u001b[0m\u001b[0;36m100\u001b[0m\u001b[0;34m,\u001b[0m\u001b[0;34m\u001b[0m\u001b[0;34m\u001b[0m\u001b[0m\n\u001b[1;32m      4\u001b[0m         \u001b[0mnum_generations\u001b[0m\u001b[0;34m=\u001b[0m\u001b[0;36m4000\u001b[0m\u001b[0;34m,\u001b[0m\u001b[0;34m\u001b[0m\u001b[0;34m\u001b[0m\u001b[0m\n\u001b[1;32m      5\u001b[0m         \u001b[0mtournament_size\u001b[0m\u001b[0;34m=\u001b[0m\u001b[0;36m5\u001b[0m\u001b[0;34m,\u001b[0m\u001b[0;34m\u001b[0m\u001b[0;34m\u001b[0m\u001b[0m\n",
      "\u001b[0;32m<ipython-input-82-a26548064eea>\u001b[0m in \u001b[0;36mgenetic_algorithm\u001b[0;34m(mutation_func, pop_size, num_generations, tournament_size, crossover_proba, allow_single_swap, random_order, mutation_rate, elitism_ratio)\u001b[0m\n\u001b[1;32m     57\u001b[0m \u001b[0;34m\u001b[0m\u001b[0m\n\u001b[1;32m     58\u001b[0m         \u001b[0;31m# Reproduction\u001b[0m\u001b[0;34m\u001b[0m\u001b[0;34m\u001b[0m\u001b[0;34m\u001b[0m\u001b[0m\n\u001b[0;32m---> 59\u001b[0;31m         \u001b[0moffspring\u001b[0m \u001b[0;34m=\u001b[0m \u001b[0mreproduction\u001b[0m\u001b[0;34m(\u001b[0m\u001b[0mmutation_func\u001b[0m\u001b[0;34m,\u001b[0m \u001b[0mparents\u001b[0m\u001b[0;34m,\u001b[0m \u001b[0mcrossover_proba\u001b[0m\u001b[0;34m,\u001b[0m \u001b[0mallow_single_swap\u001b[0m\u001b[0;34m,\u001b[0m \u001b[0mrandom_order\u001b[0m\u001b[0;34m,\u001b[0m \u001b[0mmutation_rate\u001b[0m\u001b[0;34m)\u001b[0m\u001b[0;34m\u001b[0m\u001b[0;34m\u001b[0m\u001b[0m\n\u001b[0m\u001b[1;32m     60\u001b[0m \u001b[0;34m\u001b[0m\u001b[0m\n\u001b[1;32m     61\u001b[0m         \u001b[0;31m# Combine elites and offspring\u001b[0m\u001b[0;34m\u001b[0m\u001b[0;34m\u001b[0m\u001b[0;34m\u001b[0m\u001b[0m\n",
      "\u001b[0;32m<ipython-input-80-c07edadd216f>\u001b[0m in \u001b[0;36mreproduction\u001b[0;34m(mutation_func, parents, crossover_proba, allow_single_swap, random_order, mutation_rate)\u001b[0m\n\u001b[1;32m     25\u001b[0m         \u001b[0mparent1\u001b[0m\u001b[0;34m,\u001b[0m \u001b[0mparent2\u001b[0m \u001b[0;34m=\u001b[0m \u001b[0mparents\u001b[0m\u001b[0;34m[\u001b[0m\u001b[0mi\u001b[0m\u001b[0;34m]\u001b[0m\u001b[0;34m,\u001b[0m \u001b[0mparents\u001b[0m\u001b[0;34m[\u001b[0m\u001b[0mi\u001b[0m \u001b[0;34m+\u001b[0m \u001b[0;36m1\u001b[0m\u001b[0;34m]\u001b[0m\u001b[0;34m\u001b[0m\u001b[0;34m\u001b[0m\u001b[0m\n\u001b[1;32m     26\u001b[0m         \u001b[0;31m# Create children through crossover\u001b[0m\u001b[0;34m\u001b[0m\u001b[0;34m\u001b[0m\u001b[0;34m\u001b[0m\u001b[0m\n\u001b[0;32m---> 27\u001b[0;31m         \u001b[0mchild1\u001b[0m\u001b[0;34m,\u001b[0m \u001b[0mchild2\u001b[0m \u001b[0;34m=\u001b[0m \u001b[0mcrossover\u001b[0m\u001b[0;34m(\u001b[0m\u001b[0mparent1\u001b[0m\u001b[0;34m,\u001b[0m \u001b[0mparent2\u001b[0m\u001b[0;34m,\u001b[0m \u001b[0mp\u001b[0m\u001b[0;34m=\u001b[0m\u001b[0mcrossover_proba\u001b[0m\u001b[0;34m,\u001b[0m \u001b[0mallow_single_swap\u001b[0m\u001b[0;34m=\u001b[0m\u001b[0mallow_single_swap\u001b[0m\u001b[0;34m,\u001b[0m \u001b[0mrandom_order\u001b[0m\u001b[0;34m=\u001b[0m\u001b[0mrandom_order\u001b[0m\u001b[0;34m)\u001b[0m\u001b[0;34m\u001b[0m\u001b[0;34m\u001b[0m\u001b[0m\n\u001b[0m\u001b[1;32m     28\u001b[0m         \u001b[0;31m# Apply mutation to both children (independently\u001b[0m\u001b[0;34m\u001b[0m\u001b[0;34m\u001b[0m\u001b[0;34m\u001b[0m\u001b[0m\n\u001b[1;32m     29\u001b[0m         \u001b[0mmutation_func\u001b[0m\u001b[0;34m(\u001b[0m\u001b[0mchild1\u001b[0m\u001b[0;34m,\u001b[0m \u001b[0mmutation_rate\u001b[0m\u001b[0;34m)\u001b[0m\u001b[0;34m\u001b[0m\u001b[0;34m\u001b[0m\u001b[0m\n",
      "\u001b[0;32m<ipython-input-77-1b85dca8b952>\u001b[0m in \u001b[0;36mcrossover\u001b[0;34m(parent1, parent2, p, allow_single_swap, random_order)\u001b[0m\n\u001b[1;32m     30\u001b[0m         \u001b[0;31m# We check whether the exchange will be acceptable for both descendants.\u001b[0m\u001b[0;34m\u001b[0m\u001b[0;34m\u001b[0m\u001b[0;34m\u001b[0m\u001b[0m\n\u001b[1;32m     31\u001b[0m         \u001b[0mvalid1\u001b[0m \u001b[0;34m=\u001b[0m \u001b[0mchild1\u001b[0m\u001b[0;34m.\u001b[0m\u001b[0mis_swap_valid\u001b[0m\u001b[0;34m(\u001b[0m\u001b[0mfamily_idx\u001b[0m\u001b[0;34m,\u001b[0m \u001b[0mday2\u001b[0m\u001b[0;34m,\u001b[0m \u001b[0mfamily_size\u001b[0m\u001b[0;34m)\u001b[0m\u001b[0;34m\u001b[0m\u001b[0;34m\u001b[0m\u001b[0m\n\u001b[0;32m---> 32\u001b[0;31m         \u001b[0mvalid2\u001b[0m \u001b[0;34m=\u001b[0m \u001b[0mchild2\u001b[0m\u001b[0;34m.\u001b[0m\u001b[0mis_swap_valid\u001b[0m\u001b[0;34m(\u001b[0m\u001b[0mfamily_idx\u001b[0m\u001b[0;34m,\u001b[0m \u001b[0mday1\u001b[0m\u001b[0;34m,\u001b[0m \u001b[0mfamily_size\u001b[0m\u001b[0;34m)\u001b[0m\u001b[0;34m\u001b[0m\u001b[0;34m\u001b[0m\u001b[0m\n\u001b[0m\u001b[1;32m     33\u001b[0m \u001b[0;34m\u001b[0m\u001b[0m\n\u001b[1;32m     34\u001b[0m         \u001b[0;31m# if exchange is acceptable then swap two genes\u001b[0m\u001b[0;34m\u001b[0m\u001b[0;34m\u001b[0m\u001b[0;34m\u001b[0m\u001b[0m\n",
      "\u001b[0;32m<ipython-input-73-95302dd50643>\u001b[0m in \u001b[0;36mis_swap_valid\u001b[0;34m(self, family_idx, new_day, family_size_arr)\u001b[0m\n\u001b[1;32m     13\u001b[0m \u001b[0;34m\u001b[0m\u001b[0m\n\u001b[1;32m     14\u001b[0m     \u001b[0;32mdef\u001b[0m \u001b[0mis_swap_valid\u001b[0m\u001b[0;34m(\u001b[0m\u001b[0mself\u001b[0m\u001b[0;34m,\u001b[0m \u001b[0mfamily_idx\u001b[0m\u001b[0;34m,\u001b[0m \u001b[0mnew_day\u001b[0m\u001b[0;34m,\u001b[0m \u001b[0mfamily_size_arr\u001b[0m\u001b[0;34m)\u001b[0m \u001b[0;34m->\u001b[0m \u001b[0mboolean\u001b[0m\u001b[0;34m:\u001b[0m\u001b[0;34m\u001b[0m\u001b[0;34m\u001b[0m\u001b[0m\n\u001b[0;32m---> 15\u001b[0;31m         \u001b[0mcurrent_day\u001b[0m \u001b[0;34m=\u001b[0m \u001b[0mself\u001b[0m\u001b[0;34m.\u001b[0m\u001b[0massigned_days\u001b[0m\u001b[0;34m[\u001b[0m\u001b[0mfamily_idx\u001b[0m\u001b[0;34m]\u001b[0m\u001b[0;34m\u001b[0m\u001b[0;34m\u001b[0m\u001b[0m\n\u001b[0m\u001b[1;32m     16\u001b[0m         \u001b[0mfamily_size\u001b[0m \u001b[0;34m=\u001b[0m \u001b[0mfamily_size_arr\u001b[0m\u001b[0;34m[\u001b[0m\u001b[0mfamily_idx\u001b[0m\u001b[0;34m]\u001b[0m\u001b[0;34m\u001b[0m\u001b[0;34m\u001b[0m\u001b[0m\n\u001b[1;32m     17\u001b[0m \u001b[0;34m\u001b[0m\u001b[0m\n",
      "\u001b[0;31mKeyboardInterrupt\u001b[0m: "
     ]
    }
   ],
   "source": [
    "# launching the genetic algorithm\n",
    "best_ch, best_c = genetic_algorithm(\n",
    "        pop_size=100,\n",
    "        num_generations=4000,\n",
    "        tournament_size=5,\n",
    "        crossover_proba=0.5,\n",
    "        allow_single_swap=True,\n",
    "        random_order=True,\n",
    "        mutation_func=mutation1,\n",
    "        mutation_rate=0.3,\n",
    "        elitism_ratio=0.1\n",
    "    )\n",
    "\n",
    "print(\"Best Chromosome:\", best_ch)\n",
    "print(\"Best Cost:\", best_c)"
   ]
  },
  {
   "cell_type": "code",
   "execution_count": null,
   "id": "e7a936bde9832a7e",
   "metadata": {
    "ExecuteTime": {
     "end_time": "2025-04-14T15:56:47.377872Z",
     "start_time": "2025-04-14T15:56:47.369554Z"
    }
   },
   "outputs": [],
   "source": [
    "# saving the best solution\n",
    "submission['assigned_day'] = best_ch.assigned_days\n",
    "submission.to_csv('data/submission.csv', index=False)"
   ]
  }
 ],
 "metadata": {
  "kernelspec": {
   "display_name": "Python 3",
   "language": "python",
   "name": "python3"
  },
  "language_info": {
   "codemirror_mode": {
    "name": "ipython",
    "version": 3
   },
   "file_extension": ".py",
   "mimetype": "text/x-python",
   "name": "python",
   "nbconvert_exporter": "python",
   "pygments_lexer": "ipython3",
   "version": "3.8.8"
  }
 },
 "nbformat": 4,
 "nbformat_minor": 5
}
